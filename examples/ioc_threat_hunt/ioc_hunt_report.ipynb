{
 "cells": [
  {
   "cell_type": "code",
   "execution_count": null,
   "id": "b83e98aa",
   "metadata": {
    "tags": [
     "parameters"
    ]
   },
   "outputs": [],
   "source": [
    "TENANT_ID = None\n",
    "REGION = None\n",
    "INVESTIGATION_TITLE = None\n",
    "INDICATORS = None"
   ]
  },
  {
   "cell_type": "code",
   "execution_count": null,
   "id": "c26a0588",
   "metadata": {},
   "outputs": [],
   "source": [
    "import logging\n",
    "\n",
    "import pandas as pd\n",
    "from datetime import datetime\n",
    "from textwrap import dedent\n",
    "from taegis_magic.pandas.ioc import is_domain, is_hash, is_ip_address\n",
    "from taegis_magic.pandas.utils import default_schema_columns, groupby\n",
    "\n",
    "from IPython.display import display_markdown\n",
    "\n",
    "log = logging.getLogger(__name__)\n",
    "\n",
    "if not INDICATORS:\n",
    "    log.warning(\"No indicators provided, skipping notebook execution.\")\n",
    "    raise SystemExit()\n",
    "\n",
    "%load_ext taegis_magic"
   ]
  },
  {
   "cell_type": "code",
   "execution_count": null,
   "id": "1581d33d",
   "metadata": {},
   "outputs": [],
   "source": [
    "def generate_query(value: str, date: str, event_type: str) -> str:\n",
    "    earliest = datetime.strptime(date, \"%Y%m%d\").strftime(\"%Y-%m-%dT00:00:00Z\")\n",
    "    latest = datetime.strptime(date, \"%Y%m%d\").strftime(\"%Y-%m-%dT23:59:59Z\")\n",
    "\n",
    "    if is_hash(value):\n",
    "        logical_type = \"hash\"\n",
    "    elif is_domain(value):\n",
    "        logical_type = \"domain\"\n",
    "    elif is_ip_address(value):\n",
    "        logical_type = \"ip\"\n",
    "    else:\n",
    "        log.error(f\"Unsupported logical type for value: {value}\")\n",
    "        return \"Error\"\n",
    "\n",
    "    query = dedent(\n",
    "        f\"\"\"\n",
    "    FROM {event_type}\n",
    "    WHERE @{logical_type} = '{value}'\n",
    "    EARLIEST='{earliest}' LATEST='{latest}'\n",
    "    \"\"\".strip()\n",
    "    )\n",
    "    return query\n",
    "\n",
    "\n",
    "indicators_by_type = {}\n",
    "for indicator in INDICATORS or []:\n",
    "    indicator[\"query\"] = generate_query(\n",
    "        value=indicator[\"matching_value\"],\n",
    "        date=indicator[\"date\"],\n",
    "        event_type=indicator[\"event_type\"],\n",
    "    )\n",
    "    if indicator[\"event_type\"] not in indicators_by_type:\n",
    "        indicators_by_type[indicator[\"event_type\"]] = []\n",
    "    if indicator[\"query\"] != \"Error\":\n",
    "        indicators_by_type[indicator[\"event_type\"]].append(indicator)"
   ]
  },
  {
   "cell_type": "markdown",
   "id": "e2420c1d",
   "metadata": {},
   "source": [
    "# IOC Threat Hunt\n",
    "\n",
    "This is an Indicator of Comprise of Hashes, IPs and Domains."
   ]
  },
  {
   "cell_type": "code",
   "execution_count": null,
   "id": "4404aa74",
   "metadata": {},
   "outputs": [],
   "source": [
    "display_markdown(\"List of Indicators:\", raw=True)\n",
    "\n",
    "for ioc in {indicator[\"matching_value\"] for indicator in (INDICATORS or [])}:\n",
    "    display_markdown(f\"- {ioc}\", raw=True)"
   ]
  },
  {
   "cell_type": "code",
   "execution_count": null,
   "id": "c2c4336d",
   "metadata": {},
   "outputs": [],
   "source": [
    "results_dfs = {}\n",
    "for event_type, indicators in indicators_by_type.items():\n",
    "    display_markdown(f\"### Searching {event_type} indicators:\", raw=True)\n",
    "    for indicator in indicators:\n",
    "        display_markdown(\n",
    "            f\"Search criteria: {indicator['date']} - {indicator['matching_value']}\",\n",
    "            raw=True,\n",
    "        )\n",
    "        query = indicator[\"query\"]\n",
    "        %taegis --verbose events search --tenant $TENANT_ID --region $REGION --assign results --cell \"$query\" --track --cache\n",
    "\n",
    "        if event_type not in results_dfs:\n",
    "            results_dfs[event_type] = results\n",
    "        else:\n",
    "            results_dfs[event_type] = pd.concat(\n",
    "                [\n",
    "                    results_dfs[event_type],\n",
    "                    results,\n",
    "                ]\n",
    "            ).reset_index(drop=True)\n",
    "\n",
    "        display_markdown(\"<br/>\", raw=True)\n",
    "\n",
    "    display_markdown(f\"#### Top 20 {event_type} results:\", raw=True)\n",
    "    display_markdown(\n",
    "        groupby(results_dfs[event_type], columns=default_schema_columns(event_type))\n",
    "        .sort_values(by=\"count\", ascending=False)\n",
    "        .head(20)\n",
    "        .to_html(),\n",
    "        raw=True,\n",
    "    )\n",
    "    display_markdown(\"<br/>\", raw=True)"
   ]
  },
  {
   "cell_type": "code",
   "execution_count": null,
   "id": "4bfbe100",
   "metadata": {},
   "outputs": [],
   "source": [
    "%save_notebook"
   ]
  },
  {
   "cell_type": "code",
   "execution_count": null,
   "id": "db9de65d",
   "metadata": {},
   "outputs": [],
   "source": [
    "%generate_report"
   ]
  },
  {
   "cell_type": "code",
   "execution_count": null,
   "id": "7112fba4",
   "metadata": {},
   "outputs": [],
   "source": [
    "%taegis investigations search-queries stage"
   ]
  },
  {
   "cell_type": "code",
   "execution_count": null,
   "id": "9e42e3db",
   "metadata": {},
   "outputs": [],
   "source": [
    "%taegis investigations create \\\n",
    "--title \"$INVESTIGATION_TITLE\" \\\n",
    "--key-findings \"$TAEGIS_MAGIC_REPORT_FILENAME\" \\\n",
    "--priority MEDIUM \\\n",
    "--type THREAT_HUNT \\\n",
    "--status AWAITING_ACTION \\\n",
    "--assignee-id \"@customer\" \\\n",
    "--tenant $TENANT_ID \\\n",
    "--region $REGION"
   ]
  },
  {
   "cell_type": "code",
   "execution_count": null,
   "id": "8efdd317",
   "metadata": {},
   "outputs": [],
   "source": []
  }
 ],
 "metadata": {
  "kernelspec": {
   "display_name": "Python 3",
   "language": "python",
   "name": "python3"
  },
  "language_info": {
   "codemirror_mode": {
    "name": "ipython",
    "version": 3
   },
   "file_extension": ".py",
   "mimetype": "text/x-python",
   "name": "python",
   "nbconvert_exporter": "python",
   "pygments_lexer": "ipython3",
   "version": "3.9.17"
  }
 },
 "nbformat": 4,
 "nbformat_minor": 5
}
