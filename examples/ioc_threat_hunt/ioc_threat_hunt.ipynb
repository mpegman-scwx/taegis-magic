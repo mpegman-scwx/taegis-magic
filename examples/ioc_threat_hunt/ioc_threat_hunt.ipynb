{
 "cells": [
  {
   "cell_type": "code",
   "execution_count": null,
   "id": "4c257e36",
   "metadata": {
    "tags": [
     "parameters"
    ]
   },
   "outputs": [],
   "source": [
    "region = \"charlie\"  # authentication region, does not limit regions for tenant queries\n",
    "organization_id = None\n",
    "tenant_ids = None\n",
    "services = None\n",
    "title = None\n",
    "description = None\n",
    "ioc_file = None\n",
    "iocs = None\n",
    "days = 30\n",
    "TAEGIS_MAGIC_NOTEBOOK_FILENAME = None"
   ]
  },
  {
   "cell_type": "code",
   "execution_count": null,
   "id": "b388d92b",
   "metadata": {},
   "outputs": [],
   "source": [
    "# validation checks\n",
    "\n",
    "if not organization_id:\n",
    "    raise ValueError(\"'organization_id' must be provided.\")\n",
    "\n",
    "if not iocs and not ioc_file:\n",
    "    raise ValueError(\"Either 'ioc_file' or 'iocs' must be provided.\")\n",
    "\n",
    "if days < 1:\n",
    "    raise ValueError(\"'days' must be at least 1.\")"
   ]
  },
  {
   "cell_type": "code",
   "execution_count": null,
   "id": "75c9e0c3",
   "metadata": {},
   "outputs": [],
   "source": [
    "%load_ext taegis_magic\n",
    "\n",
    "import logging\n",
    "from taegis_magic.core.log import get_module_logger, TRACE_LOG_LEVEL\n",
    "\n",
    "logger = get_module_logger()\n",
    "logger.setLevel(logging.INFO)\n",
    "log = logging.getLogger(__name__)\n",
    "\n",
    "from pathlib import Path\n",
    "from textwrap import dedent\n",
    "from datetime import datetime, timezone\n",
    "\n",
    "from taegis_magic.core.service import get_service\n",
    "from taegis_magic.pandas.tenants import lookup_first_environment\n",
    "from taegis_magic.pandas.ioc import threaded_multi_tenant_ioc_search\n",
    "from taegis_magic.core.notebook import execute_notebook_pool, NotebookContext"
   ]
  },
  {
   "cell_type": "code",
   "execution_count": null,
   "id": "1774f556",
   "metadata": {},
   "outputs": [],
   "source": [
    "if not title:\n",
    "    date = datetime.now(timezone.utc).strftime(\"%Y-%m-%d\")\n",
    "    title = f\"IOC Hunt - {date}\"\n",
    "\n",
    "description = description or \"\""
   ]
  },
  {
   "cell_type": "code",
   "execution_count": null,
   "id": "0d617505",
   "metadata": {},
   "outputs": [],
   "source": [
    "service = get_service(tenant_id=organization_id, environment=region)"
   ]
  },
  {
   "cell_type": "code",
   "execution_count": null,
   "id": "35d51b6f",
   "metadata": {},
   "outputs": [],
   "source": [
    "%taegis auth login --use-universal-authentication"
   ]
  },
  {
   "cell_type": "code",
   "execution_count": null,
   "id": "99835fdc",
   "metadata": {},
   "outputs": [],
   "source": [
    "tenants_search_filters = []\n",
    "if organization_id:\n",
    "    tenants_search_filters.append(f\"--filter-by-tenant-hierarchy {organization_id}\")\n",
    "if tenant_ids:\n",
    "    for tenant_id in tenant_ids:\n",
    "        tenants_search_filters.append(f\"--filter-by-tenant {tenant_id}\")\n",
    "if services:\n",
    "    for service in services:\n",
    "        tenants_search_filters.append(f\"--filter-by-service {service}\")\n",
    "tenants_search_filter = \" \".join(tenants_search_filters)\n",
    "tenants_search_filter"
   ]
  },
  {
   "cell_type": "code",
   "execution_count": null,
   "id": "899194e2",
   "metadata": {},
   "outputs": [],
   "source": [
    "%taegis tenants search --tenant \"$organization_id\" \\\n",
    "    $tenants_search_filter \\\n",
    "    --region \"$region\" \\\n",
    "    --assign tenants"
   ]
  },
  {
   "cell_type": "code",
   "execution_count": null,
   "id": "4e8c3fa5",
   "metadata": {},
   "outputs": [],
   "source": [
    "tenants = tenants[tenants[\"id\"] != organization_id]\n",
    "tenants[\"first_environment\"] = tenants.pipe(lookup_first_environment)\n",
    "tenants[[\"id\", \"name\", \"first_environment\"]]"
   ]
  },
  {
   "cell_type": "code",
   "execution_count": null,
   "id": "4468e475",
   "metadata": {},
   "outputs": [],
   "source": [
    "for id_, environment in tenants[[\"id\", \"first_environment\"]].itertuples(index=False):\n",
    "    print(f\"Tenant ID: {id_}, Environment: {environment}\")"
   ]
  },
  {
   "cell_type": "code",
   "execution_count": null,
   "id": "3f943fa2",
   "metadata": {},
   "outputs": [],
   "source": [
    "if not iocs and ioc_file:\n",
    "    iocs_file = Path(ioc_file)\n",
    "    if not iocs_file.exists():\n",
    "        raise FileNotFoundError(f\"IOCs file '{iocs_file}' does not exist.\")\n",
    "\n",
    "    iocs = iocs_file.read_text().splitlines()\n",
    "\n",
    "    if not iocs:\n",
    "        raise ValueError(f\"IOCs file '{ioc_file}' is empty or contains no valid IOCs.\")\n",
    "\n",
    "iocs"
   ]
  },
  {
   "cell_type": "code",
   "execution_count": null,
   "id": "06336d01",
   "metadata": {},
   "outputs": [],
   "source": [
    "results = threaded_multi_tenant_ioc_search(\n",
    "    service=service,\n",
    "    tenants=tenants,\n",
    "    iocs=iocs,\n",
    "    days=days,\n",
    ")\n",
    "results"
   ]
  },
  {
   "cell_type": "code",
   "execution_count": null,
   "id": "4a5be254",
   "metadata": {},
   "outputs": [],
   "source": [
    "indicators_template = \"\\n\".join([f\"- {ioc}\" for ioc in iocs])\n",
    "\n",
    "Path(\"null_findings.report.md\").write_text(\n",
    "    dedent(\n",
    "        f\"\"\"\n",
    "# IoC Hunt Report\n",
    "                                                  \n",
    "{description}\n",
    "                                                  \n",
    "List of Indicators:\n",
    "{indicators_template}\n",
    "\n",
    "## Summary of Findings\n",
    "\n",
    "No indicators of compromise were found in the last {days} days.\n",
    "\"\"\"\n",
    "    )\n",
    ")"
   ]
  },
  {
   "cell_type": "code",
   "execution_count": null,
   "id": "32372f57",
   "metadata": {},
   "outputs": [],
   "source": [
    "notebook_context = []\n",
    "for tenant_id, region in tenants[['id', 'first_environment']].itertuples(index=False):\n",
    "    indicators = results[results['counts_by_tenant.tenant_id'] == tenant_id]\n",
    "    if not indicators.empty:\n",
    "        notebook_context.append(\n",
    "            NotebookContext(\n",
    "                tenant=tenant_id, \n",
    "                region=region,\n",
    "                parameters={\n",
    "                    'INDICATORS': indicators.to_dict(orient=\"records\"),\n",
    "                    'INVESTIGATION_TITLE': title,\n",
    "                })\n",
    "        )\n",
    "    else:\n",
    "        log.warning(f\"WARNING: No results found for tenant {tenant_id}\")\n",
    "        %taegis investigations create \\\n",
    "        --title \"$title\" \\\n",
    "        --key-findings \"null_findings.report.md\" \\\n",
    "        --priority LOW \\\n",
    "        --type THREAT_HUNT \\\n",
    "        --status AWAITING_ACTION \\\n",
    "        --assignee-id \"@customer\" \\\n",
    "        --tenant $tenant_id \\\n",
    "        --region $region"
   ]
  },
  {
   "cell_type": "code",
   "execution_count": null,
   "id": "d0f42115",
   "metadata": {},
   "outputs": [],
   "source": [
    "execute_notebook_pool(\n",
    "    notebook_context=notebook_context,\n",
    "    notebook_title=title,\n",
    "    notebook_path=\"ioc_hunt_report.ipynb\",\n",
    ")"
   ]
  }
 ],
 "metadata": {
  "kernelspec": {
   "display_name": "Python 3",
   "language": "python",
   "name": "python3"
  },
  "language_info": {
   "codemirror_mode": {
    "name": "ipython",
    "version": 3
   },
   "file_extension": ".py",
   "mimetype": "text/x-python",
   "name": "python",
   "nbconvert_exporter": "python",
   "pygments_lexer": "ipython3",
   "version": "3.9.17"
  }
 },
 "nbformat": 4,
 "nbformat_minor": 5
}
