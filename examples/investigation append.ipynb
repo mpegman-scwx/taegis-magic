{
 "cells": [
  {
   "cell_type": "code",
   "execution_count": null,
   "id": "335d81b6",
   "metadata": {},
   "outputs": [],
   "source": [
    "%load_ext taegis_magic"
   ]
  },
  {
   "cell_type": "code",
   "execution_count": null,
   "id": "0ad0d9a4",
   "metadata": {},
   "outputs": [],
   "source": [
    "%%taegis alerts search --track --assign alerts_df\n",
    "FROM alert EARLIEST=-1d | head 5"
   ]
  },
  {
   "cell_type": "code",
   "execution_count": null,
   "id": "944b6aac",
   "metadata": {},
   "outputs": [],
   "source": [
    "%%taegis events search --track --assign events_df\n",
    "FROM cloudaudit EARLIEST=-1d | head 5"
   ]
  },
  {
   "cell_type": "code",
   "execution_count": null,
   "id": "8b59884a",
   "metadata": {},
   "outputs": [],
   "source": [
    "%taegis investigations search-queries list"
   ]
  },
  {
   "cell_type": "code",
   "execution_count": null,
   "id": "0c9c571e",
   "metadata": {},
   "outputs": [],
   "source": [
    "%taegis investigations search-queries stage"
   ]
  },
  {
   "cell_type": "code",
   "execution_count": null,
   "id": "befe704a",
   "metadata": {},
   "outputs": [],
   "source": [
    "%taegis investigations evidence stage alerts alerts_df --investigation-id \"<uuid>\""
   ]
  },
  {
   "cell_type": "code",
   "execution_count": null,
   "id": "b30040ce",
   "metadata": {},
   "outputs": [],
   "source": [
    "%taegis investigations evidence stage events events_df --investigation-id \"<uuid>\""
   ]
  },
  {
   "cell_type": "code",
   "execution_count": null,
   "id": "53696a84",
   "metadata": {},
   "outputs": [],
   "source": [
    "%taegis investigations evidence show"
   ]
  },
  {
   "cell_type": "code",
   "execution_count": null,
   "id": "b6ca41ab",
   "metadata": {},
   "outputs": [],
   "source": [
    "%taegis investigations evidence append --use-new --investigation-id \"<uuid>\""
   ]
  },
  {
   "cell_type": "code",
   "execution_count": null,
   "id": "2744f33f",
   "metadata": {},
   "outputs": [],
   "source": []
  }
 ],
 "metadata": {
  "kernelspec": {
   "display_name": "Python 3",
   "language": "python",
   "name": "python3"
  },
  "language_info": {
   "codemirror_mode": {
    "name": "ipython",
    "version": 3
   },
   "file_extension": ".py",
   "mimetype": "text/x-python",
   "name": "python",
   "nbconvert_exporter": "python",
   "pygments_lexer": "ipython3",
   "version": "3.8.17"
  }
 },
 "nbformat": 4,
 "nbformat_minor": 5
}
