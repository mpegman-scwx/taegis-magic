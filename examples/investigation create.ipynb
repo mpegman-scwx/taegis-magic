{
 "cells": [
  {
   "cell_type": "code",
   "execution_count": null,
   "id": "e9cd3e11",
   "metadata": {
    "ExecuteTime": {
     "end_time": "2023-07-11T16:10:29.324351Z",
     "start_time": "2023-07-11T16:10:28.702547Z"
    }
   },
   "outputs": [],
   "source": [
    "%load_ext taegis_magic\n",
    "\n",
    "from taegis_magic.pandas.alerts import inflate_raw_events"
   ]
  },
  {
   "cell_type": "code",
   "execution_count": null,
   "id": "1296c29d",
   "metadata": {
    "ExecuteTime": {
     "end_time": "2023-07-11T16:10:49.776650Z",
     "start_time": "2023-07-11T16:10:30.489039Z"
    }
   },
   "outputs": [],
   "source": [
    "%%taegis alerts search --assign alerts_df\n",
    "FROM alert\n",
    "WHERE\n",
    "    status = 'OPEN' AND\n",
    "    metadata.severity > 0.2 AND\n",
    "    investigation_ids IS NULL\n",
    "EARLIEST=-3d"
   ]
  },
  {
   "cell_type": "code",
   "execution_count": null,
   "id": "364bebcc",
   "metadata": {
    "ExecuteTime": {
     "end_time": "2023-07-11T19:31:34.418827Z",
     "start_time": "2023-07-11T19:31:34.409535Z"
    }
   },
   "outputs": [],
   "source": [
    "alerts_df = alerts_df.pipe(inflate_raw_events)"
   ]
  },
  {
   "cell_type": "code",
   "execution_count": null,
   "id": "d1ac1921",
   "metadata": {
    "ExecuteTime": {
     "end_time": "2023-07-11T19:31:36.310106Z",
     "start_time": "2023-07-11T19:31:36.295663Z"
    }
   },
   "outputs": [],
   "source": [
    "alerts_df[[\"metadata.title\", \"metadata.severity\", \"event_data.user_name\"]]"
   ]
  },
  {
   "cell_type": "code",
   "execution_count": null,
   "id": "ae949dff",
   "metadata": {
    "ExecuteTime": {
     "end_time": "2023-07-11T19:31:38.638381Z",
     "start_time": "2023-07-11T19:31:38.635502Z"
    }
   },
   "outputs": [],
   "source": [
    "alerts_evidence = alerts_df[\n",
    "    alerts_df[\"metadata.title\"] == \"Suspicious AWS Account Enumeration\"\n",
    "].head()"
   ]
  },
  {
   "cell_type": "code",
   "execution_count": null,
   "id": "9f7f92f3",
   "metadata": {
    "ExecuteTime": {
     "end_time": "2023-07-11T19:31:51.801245Z",
     "start_time": "2023-07-11T19:31:51.798053Z"
    }
   },
   "outputs": [],
   "source": [
    "alerts_evidence[\"event_data.user_name\"].unique()[0]"
   ]
  },
  {
   "cell_type": "code",
   "execution_count": null,
   "id": "48728e7e",
   "metadata": {
    "ExecuteTime": {
     "end_time": "2023-07-10T21:15:40.466702Z",
     "start_time": "2023-07-10T21:15:40.451821Z"
    }
   },
   "outputs": [],
   "source": [
    "%taegis investigations evidence stage alerts alerts_evidence"
   ]
  },
  {
   "cell_type": "code",
   "execution_count": null,
   "id": "65320f2c",
   "metadata": {
    "ExecuteTime": {
     "end_time": "2023-07-10T21:16:03.523931Z",
     "start_time": "2023-07-10T21:15:40.467686Z"
    },
    "scrolled": true
   },
   "outputs": [],
   "source": [
    "%%taegis events search --assign events_evidence\n",
    "FROM cloudaudit \n",
    "WHERE \n",
    "    user_name = 'jupiter-one-service-role/jupiterone-184e20ef-e863-4614-8ce5-1c1ec18fe8ed' \n",
    "EARLIEST=-3d | head 2"
   ]
  },
  {
   "cell_type": "code",
   "execution_count": null,
   "id": "01015bb4",
   "metadata": {
    "ExecuteTime": {
     "end_time": "2023-07-10T21:16:03.527374Z",
     "start_time": "2023-07-10T21:16:03.525304Z"
    }
   },
   "outputs": [],
   "source": [
    "events_evidence = events_df.head()"
   ]
  },
  {
   "cell_type": "code",
   "execution_count": null,
   "id": "17d351f3",
   "metadata": {
    "ExecuteTime": {
     "end_time": "2023-07-10T21:16:03.550286Z",
     "start_time": "2023-07-10T21:16:03.529000Z"
    }
   },
   "outputs": [],
   "source": [
    "%taegis investigations evidence stage events events_evidence"
   ]
  },
  {
   "cell_type": "code",
   "execution_count": null,
   "id": "70ac9988",
   "metadata": {
    "ExecuteTime": {
     "end_time": "2023-07-10T21:16:03.560311Z",
     "start_time": "2023-07-10T21:16:03.551245Z"
    },
    "scrolled": true
   },
   "outputs": [],
   "source": [
    "%taegis investigations evidence show"
   ]
  },
  {
   "cell_type": "code",
   "execution_count": null,
   "id": "9e1a1d73",
   "metadata": {
    "ExecuteTime": {
     "end_time": "2023-07-10T21:16:48.861964Z",
     "start_time": "2023-07-10T21:16:48.850445Z"
    }
   },
   "outputs": [],
   "source": [
    "%taegis investigations create \\\n",
    "--title \"Micah Magic Test\" \\\n",
    "--key-findings \"kf.md\" \\\n",
    "--priority LOW \\\n",
    "--type SECURITY_INVESTIGATION \\\n",
    "--status DRAFT \\\n",
    "--assignee-id @customer \\\n",
    "--dry-run"
   ]
  },
  {
   "cell_type": "code",
   "execution_count": null,
   "id": "0d3a5f82",
   "metadata": {
    "ExecuteTime": {
     "end_time": "2023-07-11T20:01:35.009953Z",
     "start_time": "2023-07-11T20:01:33.439703Z"
    }
   },
   "outputs": [],
   "source": [
    "from taegis_sdk_python import GraphQLService\n",
    "\n",
    "service = GraphQLService()\n",
    "user = service.users.query.current_tdruser()\n",
    "assignee_id = user.user_id\n",
    "title = f\"{user.given_name} Test\""
   ]
  },
  {
   "cell_type": "code",
   "execution_count": null,
   "id": "0b3b01e1",
   "metadata": {
    "ExecuteTime": {
     "end_time": "2023-07-11T20:02:48.351700Z",
     "start_time": "2023-07-11T20:02:48.348910Z"
    }
   },
   "outputs": [],
   "source": [
    "%%writefile kf.md\n",
    "This is a test."
   ]
  },
  {
   "cell_type": "code",
   "execution_count": null,
   "id": "f3572b99",
   "metadata": {
    "ExecuteTime": {
     "end_time": "2023-07-10T21:16:56.321412Z",
     "start_time": "2023-07-10T21:16:52.642853Z"
    }
   },
   "outputs": [],
   "source": [
    "%taegis investigations create \\\n",
    "--title $title \\\n",
    "--key-findings \"kf.md\" \\\n",
    "--priority LOW \\\n",
    "--type SECURITY_INVESTIGATION \\\n",
    "--status DRAFT \\\n",
    "--assignee-id $assignee_id"
   ]
  }
 ],
 "metadata": {
  "kernelspec": {
   "display_name": "Python 3 (ipykernel)",
   "language": "python",
   "name": "python3"
  },
  "language_info": {
   "codemirror_mode": {
    "name": "ipython",
    "version": 3
   },
   "file_extension": ".py",
   "mimetype": "text/x-python",
   "name": "python",
   "nbconvert_exporter": "python",
   "pygments_lexer": "ipython3",
   "version": "3.9.2"
  }
 },
 "nbformat": 4,
 "nbformat_minor": 5
}
