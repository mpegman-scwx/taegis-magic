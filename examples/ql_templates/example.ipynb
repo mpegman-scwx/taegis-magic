{
 "cells": [
  {
   "cell_type": "code",
   "execution_count": null,
   "id": "edfb922b",
   "metadata": {
    "tags": [
     "parameters"
    ]
   },
   "outputs": [],
   "source": [
    "region = None\n",
    "tenant_id = None\n",
    "alert_query_template = None\n",
    "ips = None\n",
    "domains = None\n",
    "severity = None\n",
    "earliest = None"
   ]
  },
  {
   "cell_type": "code",
   "execution_count": null,
   "id": "3d609390",
   "metadata": {},
   "outputs": [],
   "source": [
    "%load_ext taegis_magic"
   ]
  },
  {
   "cell_type": "markdown",
   "id": "992a2fab",
   "metadata": {},
   "source": [
    "### Inline Template"
   ]
  },
  {
   "cell_type": "code",
   "execution_count": null,
   "id": "bcec0025",
   "metadata": {},
   "outputs": [],
   "source": [
    "ips = [\"1.1.1.1\", \"8.8.8.8\"]\n",
    "domains = [\"secureworks.com\", \"sophos.com\"]\n",
    "severity = 0.6\n",
    "earliest = \"-1d\""
   ]
  },
  {
   "cell_type": "code",
   "execution_count": null,
   "id": "94ded581",
   "metadata": {},
   "outputs": [],
   "source": [
    "%%taegis alerts search --tenant $tenant_id --region $region --cell-template --assign alerts\n",
    "FROM alert \n",
    "WHERE\n",
    "    ( \n",
    "        {{ ips | in('@ip') }} OR\n",
    "        {{ domains | regex('@domain') }} \n",
    "        {{ ips | and('@ip', '!MATCHES')}}\n",
    "    ) AND\n",
    "    severity >= {{ severity }}\n",
    "EARLIEST={{ earliest }}"
   ]
  },
  {
   "cell_type": "markdown",
   "id": "0187b12d",
   "metadata": {},
   "source": [
    "### Parameter Template"
   ]
  },
  {
   "cell_type": "code",
   "execution_count": null,
   "id": "8753e871",
   "metadata": {},
   "outputs": [],
   "source": [
    "%taegis alerts search --tenant $tenant_id --region $region -t --cell \"$alert_query_template\" --assign alerts"
   ]
  },
  {
   "cell_type": "markdown",
   "id": "e4fb57d8",
   "metadata": {},
   "source": [
    "### Template File"
   ]
  },
  {
   "cell_type": "code",
   "execution_count": null,
   "id": "93a3837e",
   "metadata": {},
   "outputs": [],
   "source": [
    "%taegis alerts search --tenant $tenant_id --region $region --cell-template -cell-template-file \"child_alert_query.ql\" --assign alerts"
   ]
  }
 ],
 "metadata": {
  "language_info": {
   "name": "python"
  }
 },
 "nbformat": 4,
 "nbformat_minor": 5
}
