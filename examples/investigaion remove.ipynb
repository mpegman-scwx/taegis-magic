{
 "cells": [
  {
   "cell_type": "code",
   "execution_count": null,
   "id": "579b8cde",
   "metadata": {},
   "outputs": [],
   "source": [
    "%load_ext taegis_magic\n",
    "\n",
    "from taegis_magic.pandas.investigations import inflate_evidence, lookup_evidence"
   ]
  },
  {
   "cell_type": "code",
   "execution_count": null,
   "id": "43d04a06",
   "metadata": {},
   "outputs": [],
   "source": [
    "%%taegis investigations search --assign investigations_df\n",
    "WHERE id = '<uuid>'"
   ]
  },
  {
   "cell_type": "code",
   "execution_count": null,
   "id": "5dc316cd",
   "metadata": {},
   "outputs": [],
   "source": [
    "investigations_df.pipe(inflate_evidence)"
   ]
  },
  {
   "cell_type": "code",
   "execution_count": null,
   "id": "96cb9d37",
   "metadata": {},
   "outputs": [],
   "source": [
    "evidence = investigations_df.pipe(inflate_evidence).pipe(lookup_evidence, region='charlie')\n",
    "evidence"
   ]
  },
  {
   "cell_type": "code",
   "execution_count": null,
   "id": "977b4a66",
   "metadata": {},
   "outputs": [],
   "source": [
    "sample = evidence.sample(n=5)"
   ]
  },
  {
   "cell_type": "code",
   "execution_count": null,
   "id": "dcf71919",
   "metadata": {},
   "outputs": [],
   "source": [
    "%taegis investigations evidence stage all sample --investigation-id \"<uuid>\""
   ]
  },
  {
   "cell_type": "code",
   "execution_count": null,
   "id": "70e14225",
   "metadata": {},
   "outputs": [],
   "source": [
    "%taegis investigations evidence show"
   ]
  },
  {
   "cell_type": "code",
   "execution_count": null,
   "id": "08e86592",
   "metadata": {},
   "outputs": [],
   "source": [
    "%taegis investigations evidence remove --investigation-id \"<uuid>\" --region charlie"
   ]
  },
  {
   "cell_type": "code",
   "execution_count": null,
   "id": "501cb7d7",
   "metadata": {},
   "outputs": [],
   "source": []
  }
 ],
 "metadata": {
  "kernelspec": {
   "display_name": "Python 3",
   "language": "python",
   "name": "python3"
  },
  "language_info": {
   "codemirror_mode": {
    "name": "ipython",
    "version": 3
   },
   "file_extension": ".py",
   "mimetype": "text/x-python",
   "name": "python",
   "nbconvert_exporter": "python",
   "pygments_lexer": "ipython3",
   "version": "3.8.17"
  }
 },
 "nbformat": 4,
 "nbformat_minor": 5
}
