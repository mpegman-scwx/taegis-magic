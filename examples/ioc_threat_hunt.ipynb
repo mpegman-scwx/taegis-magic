{
 "cells": [
  {
   "cell_type": "code",
   "execution_count": null,
   "id": "4c257e36",
   "metadata": {
    "tags": [
     "parameters"
    ]
   },
   "outputs": [],
   "source": [
    "region = 'charlie'\n",
    "organization_id = '96902'\n",
    "tenant_ids = None\n",
    "ioc_file = 'ioc_threat_hunt'\n",
    "days = 3\n",
    "TAEGIS_MAGIC_NOTEBOOK_FILENAME = None"
   ]
  },
  {
   "cell_type": "code",
   "execution_count": null,
   "id": "75c9e0c3",
   "metadata": {},
   "outputs": [],
   "source": [
    "%load_ext taegis_magic\n",
    "\n",
    "from taegis_magic.core.log import get_module_logger, TRACE_LOG_LEVEL\n",
    "logger = get_module_logger()\n",
    "logger.setLevel(TRACE_LOG_LEVEL)\n",
    "    \n",
    "from pathlib import Path\n",
    "\n",
    "from taegis_magic.core.service import get_service\n",
    "from taegis_magic.pandas.tenants import lookup_first_environment\n",
    "from taegis_magic.pandas.ioc import threaded_multi_tenant_ioc_search"
   ]
  },
  {
   "cell_type": "code",
   "execution_count": null,
   "id": "0d617505",
   "metadata": {},
   "outputs": [],
   "source": [
    "service = get_service(tenant_id=organization_id, environment=region)"
   ]
  },
  {
   "cell_type": "code",
   "execution_count": null,
   "id": "35d51b6f",
   "metadata": {},
   "outputs": [],
   "source": [
    "%taegis auth login --use-universal-authentication"
   ]
  },
  {
   "cell_type": "code",
   "execution_count": null,
   "id": "99835fdc",
   "metadata": {},
   "outputs": [],
   "source": [
    "tenants_search_filters = []\n",
    "if organization_id:\n",
    "    tenants_search_filters.append(f\"--filter-by-tenant-hierarchy {organization_id}\")\n",
    "if tenant_ids:\n",
    "    for tenant_id in tenant_ids:\n",
    "        tenants_search_filters.append(f\"--filter-by-tenant {tenant_id}\")\n",
    "tenants_search_filter = ' '.join(tenants_search_filters)\n",
    "tenants_search_filter"
   ]
  },
  {
   "cell_type": "code",
   "execution_count": null,
   "id": "899194e2",
   "metadata": {},
   "outputs": [],
   "source": [
    "%taegis tenants search --tenant \"$organization_id\" \\\n",
    "    $tenants_search_filter \\\n",
    "    --region \"$region\" \\\n",
    "    --assign tenants"
   ]
  },
  {
   "cell_type": "code",
   "execution_count": null,
   "id": "4e8c3fa5",
   "metadata": {},
   "outputs": [],
   "source": [
    "tenants['first_environment'] = tenants.pipe(lookup_first_environment)\n",
    "tenants[['id', 'name', 'first_environment']]"
   ]
  },
  {
   "cell_type": "code",
   "execution_count": null,
   "id": "4468e475",
   "metadata": {},
   "outputs": [],
   "source": [
    "for id_, environment in tenants[['id', 'first_environment']].itertuples(index=False):\n",
    "    print(f\"Tenant ID: {id_}, Environment: {environment}\")"
   ]
  },
  {
   "cell_type": "code",
   "execution_count": null,
   "id": "3f943fa2",
   "metadata": {},
   "outputs": [],
   "source": [
    "iocs_file = Path(ioc_file)\n",
    "if not iocs_file.exists():\n",
    "    raise FileNotFoundError(f\"IOCs file '{iocs_file}' does not exist.\")\n",
    "\n",
    "iocs = iocs_file.read_text().splitlines()\n",
    "iocs"
   ]
  },
  {
   "cell_type": "code",
   "execution_count": null,
   "id": "06336d01",
   "metadata": {},
   "outputs": [],
   "source": [
    "results = threaded_multi_tenant_ioc_search(\n",
    "    service=service,\n",
    "    tenants=tenants,\n",
    "    iocs=iocs,\n",
    "    days=days,\n",
    ")\n",
    "results"
   ]
  },
  {
   "cell_type": "code",
   "execution_count": null,
   "id": "f0b44c59",
   "metadata": {},
   "outputs": [],
   "source": [
    "results.to_parquet(f\"{Path(TAEGIS_MAGIC_NOTEBOOK_FILENAME).stem}.parquet\")"
   ]
  },
  {
   "cell_type": "code",
   "execution_count": null,
   "id": "d0f42115",
   "metadata": {},
   "outputs": [],
   "source": []
  }
 ],
 "metadata": {
  "kernelspec": {
   "display_name": "Python 3",
   "language": "python",
   "name": "python3"
  },
  "language_info": {
   "codemirror_mode": {
    "name": "ipython",
    "version": 3
   },
   "file_extension": ".py",
   "mimetype": "text/x-python",
   "name": "python",
   "nbconvert_exporter": "python",
   "pygments_lexer": "ipython3",
   "version": "3.9.17"
  }
 },
 "nbformat": 4,
 "nbformat_minor": 5
}
