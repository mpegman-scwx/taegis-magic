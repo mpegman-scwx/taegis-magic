{
 "cells": [
  {
   "cell_type": "code",
   "execution_count": null,
   "id": "843a9a16",
   "metadata": {
    "ExecuteTime": {
     "end_time": "2023-08-11T17:39:31.365672Z",
     "start_time": "2023-08-11T17:39:29.632921Z"
    }
   },
   "outputs": [],
   "source": [
    "%load_ext taegis_magic"
   ]
  },
  {
   "cell_type": "code",
   "execution_count": null,
   "id": "a84a3747",
   "metadata": {
    "ExecuteTime": {
     "end_time": "2023-08-11T18:03:19.066593Z",
     "start_time": "2023-08-11T18:03:13.772153Z"
    }
   },
   "outputs": [],
   "source": [
    "%%taegis alerts search --track --assign alerts_dataframe\n",
    "FROM alert\n",
    "EARLIEST=-1d | head 5"
   ]
  },
  {
   "cell_type": "code",
   "execution_count": null,
   "id": "348fc6be",
   "metadata": {
    "ExecuteTime": {
     "end_time": "2023-08-11T18:03:41.594932Z",
     "start_time": "2023-08-11T18:03:41.574584Z"
    }
   },
   "outputs": [],
   "source": [
    "%taegis investigations evidence stage alerts alerts_dataframe"
   ]
  },
  {
   "cell_type": "code",
   "execution_count": null,
   "id": "101ea96b",
   "metadata": {
    "ExecuteTime": {
     "end_time": "2023-08-11T18:04:14.705728Z",
     "start_time": "2023-08-11T18:04:14.689394Z"
    }
   },
   "outputs": [],
   "source": [
    "%taegis investigations evidence show"
   ]
  },
  {
   "cell_type": "code",
   "execution_count": null,
   "id": "7521d469",
   "metadata": {},
   "outputs": [],
   "source": [
    "%%taegis events search --track --assign events_dataframe\n",
    "FROM process\n",
    "EARLIEST=-1d | head 5"
   ]
  },
  {
   "cell_type": "code",
   "execution_count": null,
   "id": "d6c1b498",
   "metadata": {},
   "outputs": [],
   "source": [
    "%taegis investigations evidence stage events events_dataframe"
   ]
  },
  {
   "cell_type": "code",
   "execution_count": null,
   "id": "651f9179",
   "metadata": {},
   "outputs": [],
   "source": [
    "%taegis investigations evidence show"
   ]
  },
  {
   "cell_type": "code",
   "execution_count": null,
   "id": "dcd1ed2c",
   "metadata": {
    "ExecuteTime": {
     "end_time": "2023-08-11T18:21:00.156723Z",
     "start_time": "2023-08-11T18:21:00.142303Z"
    }
   },
   "outputs": [],
   "source": [
    "%taegis investigations search-queries list"
   ]
  },
  {
   "cell_type": "code",
   "execution_count": null,
   "id": "b882c60f",
   "metadata": {
    "ExecuteTime": {
     "end_time": "2023-08-11T18:21:09.446399Z",
     "start_time": "2023-08-11T18:21:09.427644Z"
    }
   },
   "outputs": [],
   "source": [
    "%taegis investigations search-queries stage"
   ]
  },
  {
   "cell_type": "code",
   "execution_count": null,
   "id": "e5804e73",
   "metadata": {
    "ExecuteTime": {
     "end_time": "2023-08-11T18:24:01.444626Z",
     "start_time": "2023-08-11T18:24:01.441943Z"
    }
   },
   "outputs": [],
   "source": [
    "%%writefile key_findings.md\n",
    "My keyfindings!"
   ]
  },
  {
   "cell_type": "code",
   "execution_count": null,
   "id": "5711f1fb",
   "metadata": {},
   "outputs": [],
   "source": [
    "%taegis investigations create --title \"Test Investigation\" --key-findings \"key_findings.md\" --priorty LOW --type SECURITY_INVESTIGATION --status OPEN"
   ]
  }
 ],
 "metadata": {
  "kernelspec": {
   "display_name": "Python 3 (ipykernel)",
   "language": "python",
   "name": "python3"
  },
  "language_info": {
   "codemirror_mode": {
    "name": "ipython",
    "version": 3
   },
   "file_extension": ".py",
   "mimetype": "text/x-python",
   "name": "python",
   "nbconvert_exporter": "python",
   "pygments_lexer": "ipython3",
   "version": "3.9.2"
  }
 },
 "nbformat": 4,
 "nbformat_minor": 5
}
