{
 "cells": [
  {
   "cell_type": "code",
   "execution_count": null,
   "metadata": {
    "vscode": {
     "languageId": "plaintext"
    }
   },
   "outputs": [],
   "source": [
    "%load_ext taegis_magic"
   ]
  },
  {
   "cell_type": "code",
   "execution_count": null,
   "metadata": {
    "vscode": {
     "languageId": "plaintext"
    }
   },
   "outputs": [],
   "source": [
    "%%taegis events search --assign events\n",
    "FROM process\n",
    "EARLIEST=-1h | head 5"
   ]
  },
  {
   "cell_type": "code",
   "execution_count": null,
   "metadata": {
    "vscode": {
     "languageId": "plaintext"
    }
   },
   "outputs": [],
   "source": [
    "from taegis_magic.pandas.events import convert_event_timestamps"
   ]
  },
  {
   "cell_type": "code",
   "execution_count": null,
   "metadata": {
    "vscode": {
     "languageId": "plaintext"
    }
   },
   "outputs": [],
   "source": [
    "convert_timestamps = events.pipe(convert_event_timestamps)\n",
    "convert_timestamps[\n",
    "    [\n",
    "        \"event_time_usec\",\n",
    "        \"taegis_magic.event_time_usec\",\n",
    "        \"ingest_time_usec\",\n",
    "        \"taegis_magic.ingest_time_usec\",\n",
    "    ]\n",
    "]"
   ]
  },
  {
   "cell_type": "code",
   "execution_count": null,
   "metadata": {
    "vscode": {
     "languageId": "plaintext"
    }
   },
   "outputs": [],
   "source": [
    "from taegis_magic.pandas.events import inflate_original_data"
   ]
  },
  {
   "cell_type": "code",
   "execution_count": null,
   "metadata": {
    "vscode": {
     "languageId": "plaintext"
    }
   },
   "outputs": [],
   "source": [
    "inflate_original_data_df = events.pipe(inflate_original_data)\n",
    "inflate_original_data_df[\n",
    "    [\n",
    "        column\n",
    "        for column in inflate_original_data_df.columns\n",
    "        if column.startswith(\"original_data.\")\n",
    "    ]\n",
    "]"
   ]
  }
 ],
 "metadata": {
  "language_info": {
   "name": "python"
  }
 },
 "nbformat": 4,
 "nbformat_minor": 2
}
