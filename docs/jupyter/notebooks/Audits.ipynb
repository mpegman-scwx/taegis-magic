{
 "cells": [
  {
   "cell_type": "code",
   "execution_count": null,
   "id": "0c66f990",
   "metadata": {
    "ExecuteTime": {
     "end_time": "2023-08-11T14:25:14.649018Z",
     "start_time": "2023-08-11T14:25:12.903739Z"
    }
   },
   "outputs": [],
   "source": [
    "%load_ext taegis_magic"
   ]
  },
  {
   "cell_type": "code",
   "execution_count": null,
   "id": "703dca7c",
   "metadata": {
    "ExecuteTime": {
     "end_time": "2023-08-11T14:25:14.652939Z",
     "start_time": "2023-08-11T14:25:14.650052Z"
    }
   },
   "outputs": [],
   "source": [
    "from taegis_magic.pandas.audits import get_diffs"
   ]
  },
  {
   "cell_type": "code",
   "execution_count": null,
   "id": "0330616b",
   "metadata": {
    "ExecuteTime": {
     "end_time": "2023-08-11T14:25:19.269643Z",
     "start_time": "2023-08-11T14:25:14.654217Z"
    }
   },
   "outputs": [],
   "source": [
    "%taegis audits search --application investigations --action update --assign investigation_audits"
   ]
  },
  {
   "cell_type": "code",
   "execution_count": null,
   "id": "25807cdb",
   "metadata": {
    "ExecuteTime": {
     "end_time": "2023-08-11T14:25:19.953670Z",
     "start_time": "2023-08-11T14:25:19.270953Z"
    }
   },
   "outputs": [],
   "source": [
    "investigation_update_diffs = investigation_audits.pipe(get_diffs)"
   ]
  },
  {
   "cell_type": "code",
   "execution_count": null,
   "id": "897d1205",
   "metadata": {
    "ExecuteTime": {
     "end_time": "2023-08-11T14:25:19.984675Z",
     "start_time": "2023-08-11T14:25:19.954676Z"
    }
   },
   "outputs": [],
   "source": [
    "investigation_update_diffs[\n",
    "    [\n",
    "        column\n",
    "        for column in investigation_update_diffs.columns\n",
    "        if column.startswith(\"taegis_magic.diff.\")\n",
    "    ]\n",
    "]"
   ]
  },
  {
   "cell_type": "code",
   "execution_count": null,
   "id": "d5861eb8",
   "metadata": {},
   "outputs": [],
   "source": []
  }
 ],
 "metadata": {
  "kernelspec": {
   "display_name": "Python 3 (ipykernel)",
   "language": "python",
   "name": "python3"
  },
  "language_info": {
   "codemirror_mode": {
    "name": "ipython",
    "version": 3
   },
   "file_extension": ".py",
   "mimetype": "text/x-python",
   "name": "python",
   "nbconvert_exporter": "python",
   "pygments_lexer": "ipython3",
   "version": "3.9.2"
  }
 },
 "nbformat": 4,
 "nbformat_minor": 5
}
