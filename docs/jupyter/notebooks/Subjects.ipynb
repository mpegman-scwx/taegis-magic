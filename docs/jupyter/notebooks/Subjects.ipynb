{
 "cells": [
  {
   "cell_type": "code",
   "execution_count": null,
   "id": "7cad7e71",
   "metadata": {},
   "outputs": [],
   "source": [
    "%load_ext taegis_magic"
   ]
  },
  {
   "cell_type": "code",
   "execution_count": null,
   "id": "4822224f",
   "metadata": {},
   "outputs": [],
   "source": [
    "from taegis_magic.pandas.subjects import lookup_users"
   ]
  },
  {
   "cell_type": "code",
   "execution_count": null,
   "id": "a860a3aa",
   "metadata": {},
   "outputs": [],
   "source": [
    "%taegis rules suppression --kind tenant --assign rules"
   ]
  },
  {
   "cell_type": "code",
   "execution_count": null,
   "id": "38e02519",
   "metadata": {},
   "outputs": [],
   "source": [
    "lookup_user_rules = rules.pipe(\n",
    "    lookup_users, region=\"charlie\", user_id_columns=[\"user.id\"]\n",
    ")\n",
    "lookup_user_rules[\n",
    "    [\n",
    "        \"id\",\n",
    "        \"user.id,\" \"user.id.user.email\",\n",
    "        \"user.id.user.given_name\",\n",
    "    ]\n",
    "]"
   ]
  },
  {
   "cell_type": "code",
   "execution_count": null,
   "id": "85e68f9c",
   "metadata": {},
   "outputs": [],
   "source": [
    "%taegis clients search --assign clients"
   ]
  },
  {
   "cell_type": "code",
   "execution_count": null,
   "id": "4318b466",
   "metadata": {},
   "outputs": [],
   "source": [
    "lookup_users_clients = clients.pipe(\n",
    "    lookup_users, region=\"charlie\", user_id_columns=[\"created_by\", \"updated_by\"]\n",
    ")\n",
    "lookup_users_clients[\n",
    "    [\n",
    "        \"client_id\",\n",
    "        \"created_by\",\n",
    "        \"created_by.user.email\",\n",
    "        \"created_by.user.given_name\",\n",
    "        \"created_by.user.family_name\",\n",
    "        \"updated_by\",\n",
    "        \"updated_by.user.email\",\n",
    "        \"updated_by.user.given_name\",\n",
    "        \"updated_by.user.family_name\",\n",
    "    ]\n",
    "]"
   ]
  },
  {
   "cell_type": "code",
   "execution_count": null,
   "id": "27b5a5ae",
   "metadata": {},
   "outputs": [],
   "source": [
    "%taegis users current-user --assign current_user"
   ]
  },
  {
   "cell_type": "code",
   "execution_count": null,
   "id": "dbd8d661",
   "metadata": {},
   "outputs": [],
   "source": [
    "lookup_users_current_user = current_user.pipe(\n",
    "    lookup_users, region=\"charlie\", user_id_columns=[\"updated_by\"]\n",
    ")\n",
    "lookup_users_current_user[\n",
    "    [\n",
    "        \"id\",\n",
    "        \"updated_by\",\n",
    "        \"updated_by.user.email\",\n",
    "        \"updated_by.user.given_name\",\n",
    "        \"updated_by.user.family_name\",\n",
    "    ]\n",
    "]"
   ]
  },
  {
   "cell_type": "code",
   "execution_count": null,
   "id": "0f853484",
   "metadata": {},
   "outputs": [],
   "source": []
  }
 ],
 "metadata": {
  "kernelspec": {
   "display_name": "Python 3",
   "language": "python",
   "name": "python3"
  },
  "language_info": {
   "codemirror_mode": {
    "name": "ipython",
    "version": 3
   },
   "file_extension": ".py",
   "mimetype": "text/x-python",
   "name": "python",
   "nbconvert_exporter": "python",
   "pygments_lexer": "ipython3",
   "version": "3.8.17"
  }
 },
 "nbformat": 4,
 "nbformat_minor": 5
}
