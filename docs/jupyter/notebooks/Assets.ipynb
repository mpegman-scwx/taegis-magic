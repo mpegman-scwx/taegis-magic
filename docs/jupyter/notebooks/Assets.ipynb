{
 "cells": [
  {
   "cell_type": "markdown",
   "metadata": {},
   "source": [
    "# Taegis Magic\n",
    "---"
   ]
  },
  {
   "cell_type": "markdown",
   "metadata": {},
   "source": [
    "## Assets\n",
    "---"
   ]
  },
  {
   "cell_type": "code",
   "execution_count": null,
   "metadata": {},
   "outputs": [],
   "source": [
    "import pandas as pd\n",
    "from taegis_magic.pandas.alerts import inflate_raw_events\n",
    "from taegis_magic.pandas.assets import lookup_assets"
   ]
  },
  {
   "cell_type": "code",
   "execution_count": null,
   "metadata": {},
   "outputs": [],
   "source": [
    "%load_ext taegis_magic.magics"
   ]
  },
  {
   "cell_type": "markdown",
   "metadata": {},
   "source": [
    "### `lookup_assets` pipe function\n",
    "---\n",
    "\n",
    "This pandas pipe function will work when there are the following columns in the DataFrame:\n",
    "- A column name that contains `host_id`\n",
    "- A column name that contains `tenant.id` (or `tenant_id`)\n",
    "- The region/environment the lookups are taking place"
   ]
  },
  {
   "cell_type": "markdown",
   "metadata": {},
   "source": [
    "#### Asset Data with Taegis Alerts\n",
    "\n",
    "**Note:** When working with an alert data dataframe, you will need to use the `inflate_raw_events` pipe function in order to obtain the `event_data.host_id` column."
   ]
  },
  {
   "cell_type": "code",
   "execution_count": null,
   "metadata": {},
   "outputs": [],
   "source": [
    "%%taegis alerts search --assign alerts_df\n",
    "\n",
    "FROM alert\n",
    "WHERE severity >= 0.6 AND\n",
    "sensor_types CONTAINS 'ENDPOINT'\n",
    "EARLIEST=-1d\n",
    "| head 100"
   ]
  },
  {
   "cell_type": "code",
   "execution_count": null,
   "metadata": {},
   "outputs": [],
   "source": [
    "inflated_alerts = alerts_df.pipe(inflate_raw_events)\n",
    "\n",
    "inflated_alerts.head(30)[[\"metadata.title\", \"sensor_types\", \"event_data.host_id\"]]"
   ]
  },
  {
   "cell_type": "code",
   "execution_count": null,
   "metadata": {},
   "outputs": [],
   "source": [
    "alerts_with_asset_info = inflated_alerts.pipe(lookup_assets, env=\"charlie\")"
   ]
  },
  {
   "cell_type": "code",
   "execution_count": null,
   "metadata": {},
   "outputs": [],
   "source": [
    "(\n",
    "    alerts_with_asset_info.drop_duplicates(\"asset_info.hostname\")[\n",
    "        [\n",
    "            \"metadata.title\",\n",
    "            \"sensor_types\",\n",
    "            \"asset_info.hostname\",\n",
    "        ]\n",
    "    ]\n",
    ")"
   ]
  },
  {
   "cell_type": "markdown",
   "metadata": {},
   "source": [
    "#### Asset Data with Taegis Events\n",
    "\n",
    "- Unlike Alert DataFrames, Taegis Event DataFrames only need the `tenant_id` and `host_id` fields"
   ]
  },
  {
   "cell_type": "code",
   "execution_count": null,
   "metadata": {},
   "outputs": [],
   "source": [
    "%%taegis events search --assign events_df\n",
    "\n",
    "FROM process\n",
    "EARLIEST=-30d\n",
    "| head 10"
   ]
  },
  {
   "cell_type": "code",
   "execution_count": null,
   "metadata": {},
   "outputs": [],
   "source": [
    "(events_df[[\"enrichSummary\", \"host_id\", \"tenant_id\"]])"
   ]
  },
  {
   "cell_type": "code",
   "execution_count": null,
   "metadata": {},
   "outputs": [],
   "source": [
    "events_with_asset_info = events_df.pipe(lookup_assets, env=\"charlie\")"
   ]
  },
  {
   "cell_type": "code",
   "execution_count": null,
   "metadata": {},
   "outputs": [],
   "source": [
    "(events_with_asset_info[[\"enrichSummary\", \"asset_info.hostname\"]])"
   ]
  }
 ],
 "metadata": {
  "celltoolbar": "Edit Metadata",
  "kernelspec": {
   "display_name": "Python 3 (ipykernel)",
   "language": "python",
   "name": "python3"
  },
  "language_info": {
   "codemirror_mode": {
    "name": "ipython",
    "version": 3
   },
   "file_extension": ".py",
   "mimetype": "text/x-python",
   "name": "python",
   "nbconvert_exporter": "python",
   "pygments_lexer": "ipython3",
   "version": "3.11.4"
  }
 },
 "nbformat": 4,
 "nbformat_minor": 2
}
