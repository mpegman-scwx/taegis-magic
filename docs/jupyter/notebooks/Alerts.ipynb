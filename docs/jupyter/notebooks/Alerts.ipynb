{
 "cells": [
  {
   "cell_type": "code",
   "execution_count": null,
   "id": "79514b6e",
   "metadata": {
    "ExecuteTime": {
     "end_time": "2023-08-10T19:14:36.922144Z",
     "start_time": "2023-08-10T19:14:35.178912Z"
    }
   },
   "outputs": [],
   "source": [
    "%load_ext taegis_magic"
   ]
  },
  {
   "cell_type": "code",
   "execution_count": null,
   "id": "4db1fce8",
   "metadata": {
    "ExecuteTime": {
     "end_time": "2023-08-10T20:25:21.714520Z",
     "start_time": "2023-08-10T20:25:16.858429Z"
    }
   },
   "outputs": [],
   "source": [
    "%%taegis alerts search --assign alerts\n",
    "FROM alert\n",
    "EARLIEST=-1d | head 5"
   ]
  },
  {
   "cell_type": "code",
   "execution_count": null,
   "id": "3a5f4779",
   "metadata": {
    "ExecuteTime": {
     "end_time": "2023-08-10T19:46:50.931787Z",
     "start_time": "2023-08-10T19:46:50.927803Z"
    }
   },
   "outputs": [],
   "source": [
    "alerts"
   ]
  },
  {
   "cell_type": "code",
   "execution_count": null,
   "id": "5911fb5e",
   "metadata": {
    "ExecuteTime": {
     "end_time": "2023-08-10T19:14:41.754478Z",
     "start_time": "2023-08-10T19:14:41.752533Z"
    }
   },
   "outputs": [],
   "source": [
    "from taegis_magic.pandas.alerts import convert_alert_timestamps"
   ]
  },
  {
   "cell_type": "code",
   "execution_count": null,
   "id": "db37db03",
   "metadata": {
    "ExecuteTime": {
     "end_time": "2023-08-10T20:25:44.529330Z",
     "start_time": "2023-08-10T20:25:44.518244Z"
    }
   },
   "outputs": [],
   "source": [
    "convert_timestamps = alerts.pipe(convert_alert_timestamps).pipe(inflate_raw_events)\n",
    "\n",
    "convert_timestamps[\n",
    "    [\n",
    "        \"metadata.created_at.seconds\",\n",
    "        \"taegis_magic.metadata.created_at.seconds\",\n",
    "        \"metadata.inserted_at.seconds\",\n",
    "        \"taegis_magic.metadata.inserted_at.seconds\",\n",
    "        \"metadata.began_at.seconds\",\n",
    "        \"taegis_magic.metadata.began_at.seconds\",\n",
    "        \"metadata.ended_at.seconds\",\n",
    "        \"taegis_magic.metadata.ended_at.seconds\",\n",
    "    ]\n",
    "]"
   ]
  },
  {
   "cell_type": "code",
   "execution_count": null,
   "id": "bc45cdac",
   "metadata": {
    "ExecuteTime": {
     "end_time": "2023-08-10T19:30:23.832238Z",
     "start_time": "2023-08-10T19:30:23.829954Z"
    }
   },
   "outputs": [],
   "source": [
    "from taegis_magic.pandas.alerts import inflate_raw_events"
   ]
  },
  {
   "cell_type": "code",
   "execution_count": null,
   "id": "f4cd5962",
   "metadata": {
    "ExecuteTime": {
     "end_time": "2023-08-10T19:33:13.491353Z",
     "start_time": "2023-08-10T19:33:13.485684Z"
    }
   },
   "outputs": [],
   "source": [
    "with_events = alerts.pipe(inflate_raw_events)\n",
    "\n",
    "set(with_events.columns).difference(set(alerts.columns))"
   ]
  },
  {
   "cell_type": "code",
   "execution_count": null,
   "id": "71eabe43",
   "metadata": {},
   "outputs": [],
   "source": [
    "%%taegis alerts search --assign aggregate_alerts\n",
    "FROM alert\n",
    "EARLIEST=-1d | aggregate count by metadata.title | head 5"
   ]
  },
  {
   "cell_type": "code",
   "execution_count": null,
   "id": "07510ffa",
   "metadata": {},
   "outputs": [],
   "source": [
    "from taegis_magic.pandas.alerts import get_alerts_from_aggregation"
   ]
  },
  {
   "cell_type": "code",
   "execution_count": null,
   "id": "b2f67579",
   "metadata": {},
   "outputs": [],
   "source": [
    "alerts = aggregate_alerts.pipe(get_alerts_from_aggregation)"
   ]
  },
  {
   "cell_type": "code",
   "execution_count": null,
   "id": "6f9b2dd9",
   "metadata": {
    "ExecuteTime": {
     "end_time": "2023-08-10T20:57:41.665813Z",
     "start_time": "2023-08-10T20:57:29.164240Z"
    }
   },
   "outputs": [],
   "source": [
    "%%taegis alerts search --assign alerts\n",
    "FROM alert\n",
    "WHERE\n",
    "    third_party_details IS NOT NULL\n",
    "EARLIEST=-1d | head 5"
   ]
  },
  {
   "cell_type": "code",
   "execution_count": null,
   "id": "3e8a2474",
   "metadata": {
    "ExecuteTime": {
     "end_time": "2023-08-10T20:57:41.668768Z",
     "start_time": "2023-08-10T20:57:41.666949Z"
    }
   },
   "outputs": [],
   "source": [
    "from taegis_magic.pandas.alerts import inflate_third_party_details"
   ]
  },
  {
   "cell_type": "code",
   "execution_count": null,
   "id": "e6d73e0d",
   "metadata": {
    "ExecuteTime": {
     "end_time": "2023-08-10T20:57:54.684695Z",
     "start_time": "2023-08-10T20:57:54.679443Z"
    }
   },
   "outputs": [],
   "source": [
    "tpd_alerts = alerts.pipe(inflate_third_party_details)\n",
    "\n",
    "set(tpd_alerts.columns).difference(set(alerts.columns))"
   ]
  },
  {
   "cell_type": "code",
   "execution_count": null,
   "id": "c4964493",
   "metadata": {
    "ExecuteTime": {
     "end_time": "2023-08-10T21:13:11.209673Z",
     "start_time": "2023-08-10T21:13:11.207229Z"
    }
   },
   "outputs": [],
   "source": [
    "from taegis_magic.pandas.alerts import severity_rounded_and_category"
   ]
  },
  {
   "cell_type": "code",
   "execution_count": null,
   "id": "4409f5d8",
   "metadata": {
    "ExecuteTime": {
     "end_time": "2023-08-10T21:13:23.293580Z",
     "start_time": "2023-08-10T21:13:23.290120Z"
    }
   },
   "outputs": [],
   "source": [
    "alerts[\"metadata.severity\"]"
   ]
  },
  {
   "cell_type": "code",
   "execution_count": null,
   "id": "5e063ce8",
   "metadata": {
    "ExecuteTime": {
     "end_time": "2023-08-10T21:15:59.266378Z",
     "start_time": "2023-08-10T21:15:59.261206Z"
    }
   },
   "outputs": [],
   "source": [
    "transformed_alerts = alerts.pipe(severity_rounded_and_category)\n",
    "\n",
    "transformed_alerts[\n",
    "    [\"metadata.severity\", \"taegis_magic.severity\", \"taegis_magic.severity_category\"]\n",
    "]"
   ]
  },
  {
   "cell_type": "code",
   "execution_count": null,
   "id": "9be13434",
   "metadata": {},
   "outputs": [],
   "source": [
    "from taegis_magic.pandas.alerts import provide_feedback\n",
    "from taegis_sdk_python.services.alerts.types import ResolutionStatus"
   ]
  },
  {
   "cell_type": "markdown",
   "id": "4693bcae",
   "metadata": {},
   "source": [
    "```python\n",
    "alerts.pipe(\n",
    "    provide_feedback, \n",
    "    environment=\"charlie\", \n",
    "    status=ResolutionStatus.FALSE_POSITIVE, \n",
    "    reason=\"my resolution reason\"\n",
    ")\n",
    "```\n",
    "\n",
    "**Note**: Setting this as markdown so alerts are accidentally resolved."
   ]
  },
  {
   "cell_type": "code",
   "execution_count": null,
   "id": "89c02a9a",
   "metadata": {},
   "outputs": [],
   "source": [
    "from taegis_magic.pandas.alerts import normalize_creator_name"
   ]
  },
  {
   "cell_type": "code",
   "execution_count": null,
   "id": "3b3b60e7",
   "metadata": {},
   "outputs": [],
   "source": [
    "alerts = alerts.pipe(normalize_creator_name, region=\"charlie\")\n",
    "alerts[\"taegis_magic.creator.display_name\"]"
   ]
  }
 ],
 "metadata": {
  "kernelspec": {
   "display_name": "Python 3 (ipykernel)",
   "language": "python",
   "name": "python3"
  },
  "language_info": {
   "codemirror_mode": {
    "name": "ipython",
    "version": 3
   },
   "file_extension": ".py",
   "mimetype": "text/x-python",
   "name": "python",
   "nbconvert_exporter": "python",
   "pygments_lexer": "ipython3",
   "version": "3.9.2"
  }
 },
 "nbformat": 4,
 "nbformat_minor": 5
}
